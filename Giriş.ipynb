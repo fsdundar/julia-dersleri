{
 "cells": [
  {
   "cell_type": "markdown",
   "id": "endless-argument",
   "metadata": {},
   "source": [
    "# Lisans\n",
    "\n",
    "Bu ders notları *Furkan Semih Dündar* ([e-posta](mailto:f.semih.dundar@yandex.com)) tarafından yazılmış olup, bu kapsamdaki tüm ders notları **GNU Free Documentation License  1.3** ile lisanslanmıştır. Kullanım koşulları için *fdl-1.3.txt* dosyasını inceleyiniz.\n",
    "\n",
    "Copyright (C) 2021"
   ]
  },
  {
   "cell_type": "markdown",
   "id": "lovely-processor",
   "metadata": {},
   "source": [
    "<img align=\"left\" title=\"Image license: Public domain\" alt=\"Julia logo\" src=\"./images/julia.png\">"
   ]
  },
  {
   "cell_type": "markdown",
   "id": "severe-strike",
   "metadata": {},
   "source": [
    "# Ders içeriği\n",
    "\n",
    "Bu dönem boyunca Julia programlama dilinin özelliklerini ve Julia dilinde program yazmayı göreceğiz."
   ]
  },
  {
   "cell_type": "markdown",
   "id": "canadian-variable",
   "metadata": {},
   "source": [
    "Haftalık program:\n",
    "\n",
    "**Hafta 1** [Jupyter arayüzü ile tanışma ve Julia ile basit matematiksel hesaplar](./dersler/Hafta-1.ipynb)\n",
    "\n",
    "**Hafta 2** [Vektörler ve ilgili işlemler](./dersler/Hafta-2.ipynb)\n",
    "\n",
    "**Hafta 3** [Matrisler ve ilgili işlemler](./dersler/Hafta-3.ipynb)\n",
    "\n",
    "**Hafta 4** [Matrislerle ilgili işlemler (devam) ve karakter dizileri](./dersler/Hafta-4.ipynb)\n",
    "\n",
    "**Hafta 5** [Lineer denklem sistemleri, bazı vektör fonksiyonları, rastgele sayılar](./dersler/Hafta-5.ipynb)\n",
    "\n",
    "**Hafta 6** [Betik dosyaları, girdi/çıktı](./dersler/Hafta-6.ipynb)\n",
    "\n",
    "**Hafta 7** Genel tekrar\n",
    "\n",
    "**Hafta 8** [Mantıksal ve şartlı işlemler](./dersler/Hafta-8.ipynb)\n",
    "\n",
    "**Hafta 9** [Döngüler](./dersler/Hafta-9.ipynb)\n",
    "\n",
    "**Hafta 10** [Kullanıcı tanımlı fonksiyonlar](./dersler/Hafta-10.ipynb)\n",
    "\n",
    "**Hafta 11** [İki boyutlu grafikler (plotlar) ve özellikleri](./dersler/Hafta-11.ipynb)\n",
    "\n",
    "**Hafta 12** [Farklı grafik (plot) türleri](./dersler/Hafta-12.ipynb)\n",
    "\n",
    "**Hafta 13** [Üç boyutlu grafikler (plotlar)](./dersler/Hafta-13.ipynb)\n",
    "\n",
    "**Hafta 14** Genel tekrar "
   ]
  },
  {
   "cell_type": "markdown",
   "id": "favorite-marketing",
   "metadata": {},
   "source": [
    "# Kaynaklar:\n",
    "\n",
    "* [Julia 1.6 Dökümentasyonu (İngilizce)](https://docs.julialang.org/en/v1/)\n",
    "* [Plots Paketi Dökümentasyonu (İngilizce)](http://docs.juliaplots.org/latest/)"
   ]
  },
  {
   "cell_type": "code",
   "execution_count": null,
   "id": "suspected-uncertainty",
   "metadata": {},
   "outputs": [],
   "source": []
  }
 ],
 "metadata": {
  "kernelspec": {
   "display_name": "Julia 1.6.4",
   "language": "julia",
   "name": "julia-1.6"
  },
  "language_info": {
   "file_extension": ".jl",
   "mimetype": "application/julia",
   "name": "julia",
   "version": "1.6.4"
  }
 },
 "nbformat": 4,
 "nbformat_minor": 5
}
