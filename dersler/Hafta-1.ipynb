{
 "cells": [
  {
   "cell_type": "markdown",
   "id": "thorough-focus",
   "metadata": {},
   "source": [
    "# Lisans\n",
    "\n",
    "Bu ders notları *Furkan Semih Dündar* tarafından yazılmış olup, bu kapsamdaki tüm ders notları **GNU Free Documentation License  1.3** ile lisanslanmıştır. Kullanım koşulları için *fdl-1.3.txt* dosyasını inceleyiniz.\n",
    "\n",
    "Copyright (C) 2021"
   ]
  },
  {
   "cell_type": "markdown",
   "id": "perceived-robertson",
   "metadata": {},
   "source": [
    "# Hafta 1\n",
    "\n",
    "Ders içeriği:\n",
    "\n",
    "* Jupyter arayüzü\n",
    "* Julia hakkında genel bilgiler\n",
    "* Julia'nın hesap makinesi olarak kullanımı\n",
    "* Hazır (built-in) matematiksel fonksiyonlar\n",
    "* Değişkenler ve değişlenlere değer atama"
   ]
  },
  {
   "cell_type": "markdown",
   "id": "green-bangkok",
   "metadata": {},
   "source": [
    "## Jupyter arayüzü"
   ]
  },
  {
   "cell_type": "markdown",
   "id": "mexican-amendment",
   "metadata": {},
   "source": [
    "* Temel işlevler\n",
    "* Ortamı Julia kodu olarak kaydetmek"
   ]
  },
  {
   "cell_type": "markdown",
   "id": "approved-oliver",
   "metadata": {},
   "source": [
    "## Julia hakkında genel bilgiler"
   ]
  },
  {
   "cell_type": "markdown",
   "id": "essential-denmark",
   "metadata": {},
   "source": [
    "## Temel işlemler"
   ]
  },
  {
   "cell_type": "markdown",
   "id": "compound-reviewer",
   "metadata": {},
   "source": [
    "Toplama"
   ]
  },
  {
   "cell_type": "code",
   "execution_count": null,
   "id": "vital-distributor",
   "metadata": {},
   "outputs": [],
   "source": [
    "1+1"
   ]
  },
  {
   "cell_type": "markdown",
   "id": "baking-saudi",
   "metadata": {},
   "source": [
    "Çarpma"
   ]
  },
  {
   "cell_type": "code",
   "execution_count": null,
   "id": "dominican-happiness",
   "metadata": {},
   "outputs": [],
   "source": [
    "2*2"
   ]
  },
  {
   "cell_type": "markdown",
   "id": "foster-monkey",
   "metadata": {},
   "source": [
    "Çıkarma"
   ]
  },
  {
   "cell_type": "code",
   "execution_count": null,
   "id": "balanced-modeling",
   "metadata": {},
   "outputs": [],
   "source": [
    "5-1"
   ]
  },
  {
   "cell_type": "markdown",
   "id": "medium-maker",
   "metadata": {},
   "source": [
    "Bölme"
   ]
  },
  {
   "cell_type": "code",
   "execution_count": null,
   "id": "running-forestry",
   "metadata": {},
   "outputs": [],
   "source": [
    "6/3"
   ]
  },
  {
   "cell_type": "markdown",
   "id": "silent-project",
   "metadata": {},
   "source": [
    "Karekök alma"
   ]
  },
  {
   "cell_type": "code",
   "execution_count": null,
   "id": "adolescent-nurse",
   "metadata": {},
   "outputs": [],
   "source": [
    "sqrt(25)"
   ]
  },
  {
   "cell_type": "markdown",
   "id": "compliant-encoding",
   "metadata": {},
   "source": [
    "Üs alma"
   ]
  },
  {
   "cell_type": "code",
   "execution_count": null,
   "id": "surgical-motor",
   "metadata": {},
   "outputs": [],
   "source": [
    "2^5"
   ]
  },
  {
   "cell_type": "code",
   "execution_count": null,
   "id": "mounted-works",
   "metadata": {},
   "outputs": [],
   "source": [
    "3^4"
   ]
  },
  {
   "cell_type": "markdown",
   "id": "color-caution",
   "metadata": {},
   "source": [
    "### Kesirli sayılar\n",
    "\n",
    "**a** ve **b** tam sayılar ise bir kesirli sayı **a // b** formunda gösterilir. Kesirli sayılarla dört işlem yine bir kesirli sayı üretir. Eğer hesap yaparken rasyonel sayıların *tam* olarak hesap edilmesi sizin için önemliyse bu işlevselliği kullanabilirsiniz. Ayrıca bir rasyonel sayı girildiğinde, pay ve paydayı ortak bölen tam sayılar varsa sadeleştirme yapılır."
   ]
  },
  {
   "cell_type": "code",
   "execution_count": null,
   "id": "organizational-ballot",
   "metadata": {},
   "outputs": [],
   "source": [
    "10//6"
   ]
  },
  {
   "cell_type": "code",
   "execution_count": null,
   "id": "premium-comedy",
   "metadata": {},
   "outputs": [],
   "source": [
    "10//6 + 1//2"
   ]
  },
  {
   "cell_type": "markdown",
   "id": "charitable-respondent",
   "metadata": {},
   "source": [
    "Bir $q$ rasyonel sayısının payını **numerator(q)** komutu ile, paydasını da **denumerator(q)** komutu ile elde edebilirsiniz."
   ]
  },
  {
   "cell_type": "code",
   "execution_count": null,
   "id": "million-accounting",
   "metadata": {},
   "outputs": [],
   "source": [
    "numerator(3//4)"
   ]
  },
  {
   "cell_type": "code",
   "execution_count": null,
   "id": "surprised-inspector",
   "metadata": {},
   "outputs": [],
   "source": [
    "denominator(3//4)"
   ]
  },
  {
   "cell_type": "markdown",
   "id": "earned-handling",
   "metadata": {},
   "source": [
    "Bir $q$ kesirli sayısını nümerik değere (float) dönüştürmek isterseniz **float(q)** komutunu kullanabilirsiniz."
   ]
  },
  {
   "cell_type": "code",
   "execution_count": null,
   "id": "ideal-transaction",
   "metadata": {},
   "outputs": [],
   "source": [
    "float(3//4)"
   ]
  },
  {
   "cell_type": "code",
   "execution_count": null,
   "id": "funded-navigation",
   "metadata": {},
   "outputs": [],
   "source": [
    "float(1//2)"
   ]
  },
  {
   "cell_type": "code",
   "execution_count": null,
   "id": "confidential-bermuda",
   "metadata": {},
   "outputs": [],
   "source": [
    "float(1//3)"
   ]
  },
  {
   "cell_type": "markdown",
   "id": "decimal-consumer",
   "metadata": {},
   "source": [
    "## Karmaşık (kompleks) sayılar\n",
    "\n",
    "$i^2 = -1$ ile tanımlanan karmaşık birim ($i$) Julia'da **im** terimiyle gösterilir."
   ]
  },
  {
   "cell_type": "code",
   "execution_count": null,
   "id": "internal-electricity",
   "metadata": {},
   "outputs": [],
   "source": [
    "im^2"
   ]
  },
  {
   "cell_type": "markdown",
   "id": "baking-punishment",
   "metadata": {},
   "source": [
    "$z$ bir karmaşık sayı olmak üzere, $z$'nin reel kısmı **real(z)**, karmaşık kısmı **imag(z)** ile gösterilir."
   ]
  },
  {
   "cell_type": "code",
   "execution_count": null,
   "id": "aware-philippines",
   "metadata": {},
   "outputs": [],
   "source": [
    "z = 3 + 4*im"
   ]
  },
  {
   "cell_type": "code",
   "execution_count": null,
   "id": "handy-density",
   "metadata": {},
   "outputs": [],
   "source": [
    "real(z)"
   ]
  },
  {
   "cell_type": "code",
   "execution_count": null,
   "id": "julian-thriller",
   "metadata": {},
   "outputs": [],
   "source": [
    "imag(z)"
   ]
  },
  {
   "cell_type": "markdown",
   "id": "sustainable-rubber",
   "metadata": {},
   "source": [
    "Karmaşık sayıları birbirleriyle toplayabilir, çarpabilir, bölebilir birbirinden çıkarabilirsiniz."
   ]
  },
  {
   "cell_type": "code",
   "execution_count": null,
   "id": "alive-texture",
   "metadata": {},
   "outputs": [],
   "source": [
    "(1 + 2im) + (2 + 3im)"
   ]
  },
  {
   "cell_type": "code",
   "execution_count": null,
   "id": "opposed-project",
   "metadata": {},
   "outputs": [],
   "source": [
    "(1 + 2im) - (2 + 3im)"
   ]
  },
  {
   "cell_type": "code",
   "execution_count": null,
   "id": "dutch-thickness",
   "metadata": {},
   "outputs": [],
   "source": [
    "(1 + 2im) * (2 + 3im)"
   ]
  },
  {
   "cell_type": "code",
   "execution_count": null,
   "id": "tender-female",
   "metadata": {},
   "outputs": [],
   "source": [
    "(1 + 2im) / (2 + 3im)"
   ]
  },
  {
   "cell_type": "markdown",
   "id": "placed-ceramic",
   "metadata": {},
   "source": [
    "$|z|$ mutlak değerini hesap etmek içinse **abs(z)** fonksiyonu kullanılır. Bu reel sayılar için de geçerlidir."
   ]
  },
  {
   "cell_type": "code",
   "execution_count": null,
   "id": "stretch-burner",
   "metadata": {},
   "outputs": [],
   "source": [
    "abs(z)"
   ]
  },
  {
   "cell_type": "markdown",
   "id": "golden-immigration",
   "metadata": {},
   "source": [
    "$z^*$ ifadesi (karmaşık eşlenik işlemi) **conj(z)** ile gösterilir."
   ]
  },
  {
   "cell_type": "code",
   "execution_count": null,
   "id": "controlled-pakistan",
   "metadata": {},
   "outputs": [],
   "source": [
    "conj(z)"
   ]
  },
  {
   "cell_type": "markdown",
   "id": "french-football",
   "metadata": {},
   "source": [
    "$|z|^2 = z z^*$ işlemini yapalım:"
   ]
  },
  {
   "cell_type": "code",
   "execution_count": null,
   "id": "floppy-regular",
   "metadata": {},
   "outputs": [],
   "source": [
    "z * conj(z)"
   ]
  },
  {
   "cell_type": "code",
   "execution_count": null,
   "id": "abandoned-employer",
   "metadata": {},
   "outputs": [],
   "source": [
    "sqrt(z * conj(z))"
   ]
  },
  {
   "cell_type": "markdown",
   "id": "varying-regard",
   "metadata": {},
   "source": [
    "Her karmaşık $z$ sayısını $z = |z| e^{i\\theta}$ formunda gösterebiliriz. Buradaki $\\theta$ açısını radyan cinsinden veren fonksiyon **angle(z)**'dir. Örnek olarak $\\theta = 0, \\pi, 3\\pi/2$ durumlarına bakalım."
   ]
  },
  {
   "cell_type": "markdown",
   "id": "sexual-chamber",
   "metadata": {},
   "source": [
    "$\\theta = 0$"
   ]
  },
  {
   "cell_type": "code",
   "execution_count": null,
   "id": "amber-warrior",
   "metadata": {},
   "outputs": [],
   "source": [
    "angle(1)"
   ]
  },
  {
   "cell_type": "markdown",
   "id": "dirty-offering",
   "metadata": {},
   "source": [
    "$\\theta = \\pi/2$"
   ]
  },
  {
   "cell_type": "code",
   "execution_count": null,
   "id": "intellectual-crime",
   "metadata": {},
   "outputs": [],
   "source": [
    "angle(im)"
   ]
  },
  {
   "cell_type": "markdown",
   "id": "extra-viewer",
   "metadata": {},
   "source": [
    "$\\theta = \\pi$"
   ]
  },
  {
   "cell_type": "code",
   "execution_count": null,
   "id": "diverse-government",
   "metadata": {},
   "outputs": [],
   "source": [
    "angle(-1)"
   ]
  },
  {
   "cell_type": "markdown",
   "id": "infrared-exclusion",
   "metadata": {},
   "source": [
    "$\\theta = 3\\pi/2$"
   ]
  },
  {
   "cell_type": "code",
   "execution_count": null,
   "id": "traditional-inquiry",
   "metadata": {},
   "outputs": [],
   "source": [
    "angle(-im)"
   ]
  },
  {
   "cell_type": "markdown",
   "id": "developed-butter",
   "metadata": {},
   "source": [
    "Reel kısmı $x$, karmaşık kısmı $y$ olan bir karmaşık sayı oluşturmak için **x + y\\*im** yazılabilir, ya da **complex(x,y)** fonksiyonu kullanılabilir."
   ]
  },
  {
   "cell_type": "code",
   "execution_count": null,
   "id": "separate-hampshire",
   "metadata": {},
   "outputs": [],
   "source": [
    "complex(1,2)"
   ]
  },
  {
   "cell_type": "code",
   "execution_count": null,
   "id": "nuclear-version",
   "metadata": {},
   "outputs": [],
   "source": [
    "complex(3,4)"
   ]
  },
  {
   "cell_type": "markdown",
   "id": "special-failing",
   "metadata": {},
   "source": [
    "## Trigonometrik fonksiyonlar"
   ]
  },
  {
   "cell_type": "markdown",
   "id": "documented-appointment",
   "metadata": {},
   "source": [
    "$\\pi$ sayısı pi şeklinde tanımlıdır."
   ]
  },
  {
   "cell_type": "code",
   "execution_count": null,
   "id": "premier-damage",
   "metadata": {},
   "outputs": [],
   "source": [
    "pi"
   ]
  },
  {
   "cell_type": "code",
   "execution_count": null,
   "id": "forward-ministry",
   "metadata": {},
   "outputs": [],
   "source": [
    "sin(pi)"
   ]
  },
  {
   "cell_type": "code",
   "execution_count": null,
   "id": "usual-detection",
   "metadata": {},
   "outputs": [],
   "source": [
    "cos(pi)"
   ]
  },
  {
   "cell_type": "code",
   "execution_count": null,
   "id": "defined-roots",
   "metadata": {},
   "outputs": [],
   "source": [
    "sin(pi/2)"
   ]
  },
  {
   "cell_type": "code",
   "execution_count": null,
   "id": "unknown-hazard",
   "metadata": {},
   "outputs": [],
   "source": [
    "tan(pi/4)"
   ]
  },
  {
   "cell_type": "markdown",
   "id": "southeast-factory",
   "metadata": {},
   "source": [
    "## Değişkenler\n",
    "\n",
    "Bir **a** değişkenine değer atamak için **=** (eşittir işareti) operatörü kullanılır. Eşitliğin sağ tarafındaki değer, eşitliğin sol tarafındaki değişkene atanır."
   ]
  },
  {
   "cell_type": "code",
   "execution_count": null,
   "id": "entire-amino",
   "metadata": {},
   "outputs": [],
   "source": [
    "a = 10"
   ]
  },
  {
   "cell_type": "markdown",
   "id": "nuclear-partnership",
   "metadata": {},
   "source": [
    "**a** değişkenine farklı bir değer atadığımızda önceki değer silinir."
   ]
  },
  {
   "cell_type": "code",
   "execution_count": null,
   "id": "authorized-mixture",
   "metadata": {},
   "outputs": [],
   "source": [
    "a = 20"
   ]
  },
  {
   "cell_type": "code",
   "execution_count": null,
   "id": "assumed-month",
   "metadata": {},
   "outputs": [],
   "source": [
    "a"
   ]
  },
  {
   "cell_type": "markdown",
   "id": "another-helen",
   "metadata": {},
   "source": [
    "Eşitliğin sağ tarafı başka değişkenleri ve değişkenin kendisini içerebilir."
   ]
  },
  {
   "cell_type": "code",
   "execution_count": null,
   "id": "joint-inside",
   "metadata": {},
   "outputs": [],
   "source": [
    "b = 1"
   ]
  },
  {
   "cell_type": "code",
   "execution_count": null,
   "id": "measured-credits",
   "metadata": {},
   "outputs": [],
   "source": [
    "a = a + b"
   ]
  },
  {
   "cell_type": "code",
   "execution_count": null,
   "id": "remarkable-jesus",
   "metadata": {},
   "outputs": [],
   "source": [
    "a = a + 10"
   ]
  },
  {
   "cell_type": "code",
   "execution_count": null,
   "id": "effective-bottle",
   "metadata": {},
   "outputs": [],
   "source": [
    "a"
   ]
  },
  {
   "cell_type": "code",
   "execution_count": null,
   "id": "informative-purpose",
   "metadata": {},
   "outputs": [],
   "source": [
    "a = a + 20"
   ]
  },
  {
   "cell_type": "code",
   "execution_count": null,
   "id": "tired-reservation",
   "metadata": {},
   "outputs": [],
   "source": [
    "a = a-1"
   ]
  },
  {
   "cell_type": "code",
   "execution_count": null,
   "id": "complicated-cookie",
   "metadata": {},
   "outputs": [],
   "source": [
    "a = a * 4"
   ]
  },
  {
   "cell_type": "code",
   "execution_count": null,
   "id": "specified-dollar",
   "metadata": {},
   "outputs": [],
   "source": [
    "a = a // 3"
   ]
  },
  {
   "cell_type": "code",
   "execution_count": null,
   "id": "hydraulic-tokyo",
   "metadata": {},
   "outputs": [],
   "source": []
  }
 ],
 "metadata": {
  "kernelspec": {
   "display_name": "Julia 1.6.4",
   "language": "julia",
   "name": "julia-1.6"
  },
  "language_info": {
   "file_extension": ".jl",
   "mimetype": "application/julia",
   "name": "julia",
   "version": "1.6.4"
  }
 },
 "nbformat": 4,
 "nbformat_minor": 5
}
