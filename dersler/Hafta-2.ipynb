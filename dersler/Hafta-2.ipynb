{
 "cells": [
  {
   "cell_type": "markdown",
   "id": "thorough-focus",
   "metadata": {},
   "source": [
    "# Lisans\n",
    "\n",
    "Bu ders notları *Furkan Semih Dündar* tarafından yazılmış olup, bu kapsamdaki tüm ders notları **GNU Free Documentation License  1.3** ile lisanslanmıştır. Kullanım koşulları için *fdl-1.3.txt* dosyasını inceleyiniz.\n",
    "\n",
    "Copyright (C) 2021"
   ]
  },
  {
   "cell_type": "markdown",
   "id": "perceived-robertson",
   "metadata": {},
   "source": [
    "# Hafta 2\n",
    "\n",
    "Ders içeriği:\n",
    "\n",
    "* Vektörler\n",
    "* İndisler\n",
    "* Vektörlerde skaler ile çarpma\n",
    "* Vektörlerde iç çarpım\n",
    "* Vektörlerde dış (vektörel) çarpım\n",
    "* Vektörlerin elemanlarına teker teker etki eden işlemler\n",
    "* Diziler (arrayler)\n",
    "* Basit grafik (plot) çizdirme"
   ]
  },
  {
   "cell_type": "markdown",
   "id": "chemical-antibody",
   "metadata": {},
   "source": [
    "## Vektörler"
   ]
  },
  {
   "cell_type": "markdown",
   "id": "blank-overview",
   "metadata": {},
   "source": [
    "Bir $r$ vektörünü şu şekilde ifade edebiliriz:"
   ]
  },
  {
   "cell_type": "code",
   "execution_count": null,
   "id": "recent-bangladesh",
   "metadata": {},
   "outputs": [],
   "source": [
    "r = [2,4,6,8]"
   ]
  },
  {
   "cell_type": "markdown",
   "id": "military-adoption",
   "metadata": {},
   "source": [
    "Bu da başka bir vektör olsun (ilk 5 Fibonacci sayısı):"
   ]
  },
  {
   "cell_type": "code",
   "execution_count": null,
   "id": "sustained-recruitment",
   "metadata": {},
   "outputs": [],
   "source": [
    "f5 = [1,1,2,3,5]"
   ]
  },
  {
   "cell_type": "markdown",
   "id": "assisted-emphasis",
   "metadata": {},
   "source": [
    "## İndisler\n",
    "\n",
    "$r$ vektörünün i'inci elemanını çağırmak için kullanılacak kod aşağıdaki gibidir:"
   ]
  },
  {
   "cell_type": "code",
   "execution_count": null,
   "id": "solar-marks",
   "metadata": {},
   "outputs": [],
   "source": [
    "r[1]"
   ]
  },
  {
   "cell_type": "code",
   "execution_count": null,
   "id": "composite-spare",
   "metadata": {},
   "outputs": [],
   "source": [
    "r[2]"
   ]
  },
  {
   "cell_type": "markdown",
   "id": "intense-communication",
   "metadata": {},
   "source": [
    "Julia'da indisler 1 ile başlar. Belirli bir aralık kullanarak, o indis aralığındaki tüm elemanlardan oluşan bir vektör oluşturulabilir:"
   ]
  },
  {
   "cell_type": "code",
   "execution_count": null,
   "id": "statistical-handy",
   "metadata": {},
   "outputs": [],
   "source": [
    "r[1:3]"
   ]
  },
  {
   "cell_type": "markdown",
   "id": "resistant-silver",
   "metadata": {},
   "source": [
    "## Skaler ile çarpma\n",
    "\n",
    "$c$ bir skaler ve $r$ de bir vektör ise, $r$ vektörünün $c$ skaleri ile çarpımını $c*r$ şeklinde ifade edebiliriz."
   ]
  },
  {
   "cell_type": "code",
   "execution_count": null,
   "id": "going-purse",
   "metadata": {},
   "outputs": [],
   "source": [
    "r"
   ]
  },
  {
   "cell_type": "code",
   "execution_count": null,
   "id": "significant-slope",
   "metadata": {},
   "outputs": [],
   "source": [
    "2*r"
   ]
  },
  {
   "cell_type": "code",
   "execution_count": null,
   "id": "flying-syracuse",
   "metadata": {},
   "outputs": [],
   "source": [
    "-2*r"
   ]
  },
  {
   "cell_type": "code",
   "execution_count": null,
   "id": "prime-particular",
   "metadata": {},
   "outputs": [],
   "source": [
    "3*r"
   ]
  },
  {
   "cell_type": "code",
   "execution_count": null,
   "id": "white-wrapping",
   "metadata": {},
   "outputs": [],
   "source": [
    "-3*r"
   ]
  },
  {
   "cell_type": "markdown",
   "id": "departmental-procurement",
   "metadata": {},
   "source": [
    "## İç çarpım\n",
    "\n",
    "Bu işleme skaler çarpım da denmektedir bazı kaynaklarda, fakat bir vektörün bir skaler ile çarpılmasıyla karıştırılmamalıdır. Burada iki vektörün skaler çarpımı söz konusudur. $r_1$ ve $r_2$ iki vektör ise, bu vektörlerin iç çarpımı $r_1 \\cdot r_2$ şeklinde gösterilir. Julia'da ise **dot(r1,r2)** şeklinde gösterilir. **dot()** fonksiyonunu kullanabilmek için lineer cebir kütüphanesini dahil etmemiz gerekir."
   ]
  },
  {
   "cell_type": "code",
   "execution_count": null,
   "id": "israeli-world",
   "metadata": {},
   "outputs": [],
   "source": [
    "using LinearAlgebra"
   ]
  },
  {
   "cell_type": "code",
   "execution_count": null,
   "id": "wireless-custody",
   "metadata": {},
   "outputs": [],
   "source": [
    "r1 = [1,2,3]"
   ]
  },
  {
   "cell_type": "code",
   "execution_count": null,
   "id": "conditional-musical",
   "metadata": {},
   "outputs": [],
   "source": [
    "r2 = [2,3,1]"
   ]
  },
  {
   "cell_type": "markdown",
   "id": "direct-capitol",
   "metadata": {},
   "source": [
    "$r_1 \\cdot r_2 = 1\\cdot 2 + 2 \\cdot 3 + 3\\cdot 1 = 11$"
   ]
  },
  {
   "cell_type": "code",
   "execution_count": null,
   "id": "numerous-justice",
   "metadata": {},
   "outputs": [],
   "source": [
    "dot(r1,r2)"
   ]
  },
  {
   "cell_type": "markdown",
   "id": "suited-break",
   "metadata": {},
   "source": [
    "## Dış (vektörel) çarpım\n",
    "\n",
    "İki $r_1$ ve $r_2$ vektörünün dış çarpımı ($r_1 \\times r_2$ şeklinde gösterilir) bu vektörler 3 boyutluysa geçerlidir. Daha düşük boyutlu vektörleri üç bileşenli yazabiliriz dolayısıyla onları $\\mathbb R^3$'ün elemanı olarak düşünebiliriz fakat dört ve daha yüksek boyutlarda dış çarpım yoktur.\n",
    "\n",
    "Julia'da $r_1, r_2$ vektörlerinin dış çarpımı **cross(r1,r2)** şeklinde gösterilir. Bu fonksiyonu kullanmak için lineer cebir kütüphanesini kullanmalısınız."
   ]
  },
  {
   "cell_type": "code",
   "execution_count": null,
   "id": "plain-procedure",
   "metadata": {},
   "outputs": [],
   "source": [
    "cross(r1,r2)"
   ]
  },
  {
   "cell_type": "markdown",
   "id": "incorporate-gnome",
   "metadata": {},
   "source": [
    "$\\hat x = [1,0,0], \\hat y = [0,1,0], \\hat z = [0,0,1]$ olsun. Bunlar $x,y,z$ yönlerindeki birim vektörlerdir. Bunları kullanarak şu sonuçların doğru olduğunu gösterelim:\n",
    "\n",
    "* $\\hat x \\times \\hat x = 0$\n",
    "* $\\hat y \\times \\hat y = 0$\n",
    "* $\\hat z \\times \\hat z = 0$\n",
    "* $\\hat x \\times \\hat y = - \\hat y \\times \\hat x = \\hat z$\n",
    "* $\\hat y \\times \\hat z = - \\hat z \\times \\hat y = \\hat x$\n",
    "* $\\hat z \\times \\hat x = - \\hat x \\times \\hat z = \\hat y$"
   ]
  },
  {
   "cell_type": "code",
   "execution_count": null,
   "id": "educated-broadway",
   "metadata": {},
   "outputs": [],
   "source": [
    "x = [1,0,0]"
   ]
  },
  {
   "cell_type": "code",
   "execution_count": null,
   "id": "residential-uganda",
   "metadata": {},
   "outputs": [],
   "source": [
    "y = [0,1,0]"
   ]
  },
  {
   "cell_type": "code",
   "execution_count": null,
   "id": "political-banks",
   "metadata": {},
   "outputs": [],
   "source": [
    "z = [0,0,1]"
   ]
  },
  {
   "cell_type": "markdown",
   "id": "motivated-palestine",
   "metadata": {},
   "source": [
    "$\\hat x \\times \\hat x = 0$"
   ]
  },
  {
   "cell_type": "code",
   "execution_count": null,
   "id": "laden-bahrain",
   "metadata": {},
   "outputs": [],
   "source": [
    "cross(x,x)"
   ]
  },
  {
   "cell_type": "markdown",
   "id": "public-valley",
   "metadata": {},
   "source": [
    "$\\hat y \\times \\hat y = 0$"
   ]
  },
  {
   "cell_type": "code",
   "execution_count": null,
   "id": "loose-david",
   "metadata": {},
   "outputs": [],
   "source": [
    "cross(y,y)"
   ]
  },
  {
   "cell_type": "markdown",
   "id": "offshore-schema",
   "metadata": {},
   "source": [
    "$\\hat z \\times \\hat z = 0$"
   ]
  },
  {
   "cell_type": "code",
   "execution_count": null,
   "id": "visible-rebate",
   "metadata": {},
   "outputs": [],
   "source": [
    "cross(z,z)"
   ]
  },
  {
   "cell_type": "markdown",
   "id": "rising-bonus",
   "metadata": {},
   "source": [
    "$\\hat x \\times \\hat y = - \\hat y \\times \\hat x = \\hat z$"
   ]
  },
  {
   "cell_type": "code",
   "execution_count": null,
   "id": "sexual-obligation",
   "metadata": {},
   "outputs": [],
   "source": [
    "cross(x,y)"
   ]
  },
  {
   "cell_type": "code",
   "execution_count": null,
   "id": "indoor-cologne",
   "metadata": {},
   "outputs": [],
   "source": [
    "-cross(y,x)"
   ]
  },
  {
   "cell_type": "markdown",
   "id": "engaged-animal",
   "metadata": {},
   "source": [
    "$\\hat y \\times \\hat z = - \\hat z \\times \\hat y = \\hat x$"
   ]
  },
  {
   "cell_type": "code",
   "execution_count": null,
   "id": "weekly-steel",
   "metadata": {},
   "outputs": [],
   "source": [
    "cross(y,z)"
   ]
  },
  {
   "cell_type": "code",
   "execution_count": null,
   "id": "comparable-microphone",
   "metadata": {},
   "outputs": [],
   "source": [
    "-cross(z,y)"
   ]
  },
  {
   "cell_type": "markdown",
   "id": "compliant-access",
   "metadata": {},
   "source": [
    "$\\hat z \\times \\hat x = - \\hat x \\times \\hat z = \\hat y$"
   ]
  },
  {
   "cell_type": "code",
   "execution_count": null,
   "id": "unexpected-duplicate",
   "metadata": {},
   "outputs": [],
   "source": [
    "cross(z,x)"
   ]
  },
  {
   "cell_type": "code",
   "execution_count": null,
   "id": "parental-bones",
   "metadata": {},
   "outputs": [],
   "source": [
    "-cross(x,z)"
   ]
  },
  {
   "cell_type": "markdown",
   "id": "surgical-prophet",
   "metadata": {},
   "source": [
    "## Vektörlerin elemanlarına teker teker etki eden işlemler\n",
    "\n",
    "İki vektör aynı boyuttaysa toplayabiliriz (+), birbirinde çıkabiliriz (-). Bunlar her bir elemana ayrı ayrı etki eder. Ya da bir vektörü bir skaler ile çarpabilriz. Ayrıca aynı sıradaki elemanları birbiriyle çarpabiliriz (.\\*) ya da birini diğerine bölebiliriz (./). Bölme işlemi yerine, (.//) işlemi de kullanılabilir. Bu şekilde tam sayılarla böldüğünüzde rasyonel sayı elde eder, kesinlikten kaybetmezsiniz."
   ]
  },
  {
   "cell_type": "code",
   "execution_count": null,
   "id": "fitted-illness",
   "metadata": {},
   "outputs": [],
   "source": [
    "r1"
   ]
  },
  {
   "cell_type": "code",
   "execution_count": null,
   "id": "modern-noise",
   "metadata": {},
   "outputs": [],
   "source": [
    "r2"
   ]
  },
  {
   "cell_type": "code",
   "execution_count": null,
   "id": "comic-default",
   "metadata": {},
   "outputs": [],
   "source": [
    "r1 + r2"
   ]
  },
  {
   "cell_type": "code",
   "execution_count": null,
   "id": "fatty-breathing",
   "metadata": {},
   "outputs": [],
   "source": [
    "r1 - r2"
   ]
  },
  {
   "cell_type": "code",
   "execution_count": null,
   "id": "unique-yield",
   "metadata": {},
   "outputs": [],
   "source": [
    "2*r1 + 3*r2"
   ]
  },
  {
   "cell_type": "code",
   "execution_count": null,
   "id": "miniature-harvey",
   "metadata": {},
   "outputs": [],
   "source": [
    "r1 .* r2"
   ]
  },
  {
   "cell_type": "code",
   "execution_count": null,
   "id": "seven-oregon",
   "metadata": {},
   "outputs": [],
   "source": [
    "r1 ./ r2"
   ]
  },
  {
   "cell_type": "code",
   "execution_count": null,
   "id": "experimental-charles",
   "metadata": {},
   "outputs": [],
   "source": [
    "r1 .// r2"
   ]
  },
  {
   "cell_type": "markdown",
   "id": "surprising-manor",
   "metadata": {},
   "source": [
    "## Diziler (arrayler)\n",
    "\n",
    "Şu ana kadar gördüğümüz vektörler, 1 boyutlu dizilere örnektirler. "
   ]
  },
  {
   "cell_type": "code",
   "execution_count": null,
   "id": "preliminary-neighbor",
   "metadata": {},
   "outputs": [],
   "source": [
    "a = Array{Int, 1}"
   ]
  },
  {
   "cell_type": "markdown",
   "id": "olive-liberty",
   "metadata": {},
   "source": [
    "Elemanlarını biliyorsak vektörü o şekilde tanımlayabiliriz."
   ]
  },
  {
   "cell_type": "code",
   "execution_count": null,
   "id": "qualified-oliver",
   "metadata": {},
   "outputs": [],
   "source": [
    "a = [1 1 2 3 5 8 13]"
   ]
  },
  {
   "cell_type": "markdown",
   "id": "patent-matthew",
   "metadata": {},
   "source": [
    "Öte yandan, dizinin eleman sayısını önceden biliyorsak bunu diziyi tanımlarken kullanabiliriz. Dizinin elemanları tanımlı olarak gelmez. Bunları daha sonra tanımlamamız gerekir kullanmadan önce."
   ]
  },
  {
   "cell_type": "code",
   "execution_count": null,
   "id": "polyphonic-trailer",
   "metadata": {},
   "outputs": [],
   "source": [
    "b = Array{Float64, 1}(undef, 4)"
   ]
  },
  {
   "cell_type": "markdown",
   "id": "desperate-opportunity",
   "metadata": {},
   "source": [
    "Julia'da indisler 1 ile başlar. Dolayısıyla b dizisinin ilk elemanını 10 yapmak istersek aşağıdaki kodu çalıştırmamız gerekir."
   ]
  },
  {
   "cell_type": "code",
   "execution_count": null,
   "id": "imperial-cleaner",
   "metadata": {},
   "outputs": [],
   "source": [
    "b[1] = 10"
   ]
  },
  {
   "cell_type": "code",
   "execution_count": null,
   "id": "associate-holiday",
   "metadata": {},
   "outputs": [],
   "source": [
    "b"
   ]
  },
  {
   "cell_type": "code",
   "execution_count": null,
   "id": "contained-original",
   "metadata": {},
   "outputs": [],
   "source": [
    "b[2] = 11\n",
    "b[3] = 12\n",
    "b[4] = 13"
   ]
  },
  {
   "cell_type": "code",
   "execution_count": null,
   "id": "isolated-teddy",
   "metadata": {},
   "outputs": [],
   "source": [
    "b"
   ]
  },
  {
   "cell_type": "markdown",
   "id": "revised-responsibility",
   "metadata": {},
   "source": [
    "Matris tanımlamak istersek boyutu \"2\" olarak girmemiz gerekir."
   ]
  },
  {
   "cell_type": "code",
   "execution_count": null,
   "id": "regional-emphasis",
   "metadata": {},
   "outputs": [],
   "source": [
    "A = Array{Int, 2}"
   ]
  },
  {
   "cell_type": "markdown",
   "id": "worldwide-appreciation",
   "metadata": {},
   "source": [
    "Vektörlere benzer şekilde matrisin elemanlarını biliyorsak, matrisi bu şekilde tanımlayabiliriz."
   ]
  },
  {
   "cell_type": "code",
   "execution_count": null,
   "id": "fabulous-pattern",
   "metadata": {},
   "outputs": [],
   "source": [
    "A = [1 1 2; 3 5 7]"
   ]
  },
  {
   "cell_type": "markdown",
   "id": "renewable-mouse",
   "metadata": {},
   "source": [
    "Bir matrisin belli bir elemanına değer atamak için şunu yapabiliriz (birinci satır, ikinci sütundaki elemanı 20 yapalım):"
   ]
  },
  {
   "cell_type": "code",
   "execution_count": null,
   "id": "ultimate-aaron",
   "metadata": {},
   "outputs": [],
   "source": [
    "A[1,2] = 20"
   ]
  },
  {
   "cell_type": "code",
   "execution_count": null,
   "id": "atlantic-victorian",
   "metadata": {},
   "outputs": [],
   "source": [
    "A"
   ]
  },
  {
   "cell_type": "markdown",
   "id": "spectacular-greek",
   "metadata": {},
   "source": [
    "Matrislere iki boyutlu diziler de denmektedir. Matrisleri ve matrislerle ilgili işlemleri gelecek haftada daha detaylı olarak göreceğiz."
   ]
  },
  {
   "cell_type": "markdown",
   "id": "ordered-dispute",
   "metadata": {},
   "source": [
    "## Basit grafik (plot) çizdirme\n",
    "\n",
    "Grafik çizdirmek için \"Plots\" paketinin yüklü olması gerekir ve bu kütüphaneyi aşağıdaki komut ile kullanıma almalısınız."
   ]
  },
  {
   "cell_type": "code",
   "execution_count": null,
   "id": "supposed-cleaning",
   "metadata": {},
   "outputs": [],
   "source": [
    "using Plots"
   ]
  },
  {
   "cell_type": "markdown",
   "id": "victorian-membership",
   "metadata": {},
   "source": [
    "İlk 10 Fibonacci sayısı."
   ]
  },
  {
   "cell_type": "code",
   "execution_count": null,
   "id": "material-leeds",
   "metadata": {},
   "outputs": [],
   "source": [
    "fib = [1 1 2 3 5 8 13 21 34 55]"
   ]
  },
  {
   "cell_type": "code",
   "execution_count": null,
   "id": "headed-consortium",
   "metadata": {},
   "outputs": [],
   "source": [
    "plot(fib[:])"
   ]
  },
  {
   "cell_type": "markdown",
   "id": "legendary-theorem",
   "metadata": {},
   "source": [
    "Grafiğe bazı özellikler ekleyebiliriz. $x$ eksenine etiket ekleyelim."
   ]
  },
  {
   "cell_type": "code",
   "execution_count": null,
   "id": "rubber-flashing",
   "metadata": {},
   "outputs": [],
   "source": [
    "xlabel!(\"n\")"
   ]
  },
  {
   "cell_type": "markdown",
   "id": "legal-intent",
   "metadata": {},
   "source": [
    "Grafiğe başlık ekleyelim:"
   ]
  },
  {
   "cell_type": "code",
   "execution_count": null,
   "id": "mediterranean-antique",
   "metadata": {},
   "outputs": [],
   "source": [
    "plot!(title = \"İlk 10 Fibonacci sayısı\")"
   ]
  },
  {
   "cell_type": "code",
   "execution_count": null,
   "id": "danish-rally",
   "metadata": {},
   "outputs": [],
   "source": [
    "plot!(label = \"Fibonacci sayıları\")"
   ]
  },
  {
   "cell_type": "markdown",
   "id": "fifth-peripheral",
   "metadata": {},
   "source": [
    "Grafiği nokta nokta göstermek istersek *scatter* fonksiyonunu kullanmamız gerekir."
   ]
  },
  {
   "cell_type": "code",
   "execution_count": null,
   "id": "theoretical-infrastructure",
   "metadata": {},
   "outputs": [],
   "source": [
    "scatter(fib[:])"
   ]
  },
  {
   "cell_type": "markdown",
   "id": "built-finnish",
   "metadata": {},
   "source": [
    "$x$ eksenine etiket atayalım."
   ]
  },
  {
   "cell_type": "code",
   "execution_count": null,
   "id": "informative-titanium",
   "metadata": {},
   "outputs": [],
   "source": [
    "xlabel!(\"n\")"
   ]
  },
  {
   "cell_type": "markdown",
   "id": "clinical-speaker",
   "metadata": {},
   "source": [
    "Benzer şekilde başlık da yazdırabiliriz."
   ]
  },
  {
   "cell_type": "code",
   "execution_count": null,
   "id": "bigger-registration",
   "metadata": {},
   "outputs": [],
   "source": [
    "scatter!(title = \"İlk 10 Fibonacci sayısı\")"
   ]
  },
  {
   "cell_type": "code",
   "execution_count": null,
   "id": "ranging-marriage",
   "metadata": {},
   "outputs": [],
   "source": []
  }
 ],
 "metadata": {
  "kernelspec": {
   "display_name": "Julia 1.6.4",
   "language": "julia",
   "name": "julia-1.6"
  },
  "language_info": {
   "file_extension": ".jl",
   "mimetype": "application/julia",
   "name": "julia",
   "version": "1.6.4"
  }
 },
 "nbformat": 4,
 "nbformat_minor": 5
}
