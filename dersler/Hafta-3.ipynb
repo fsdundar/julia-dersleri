{
 "cells": [
  {
   "cell_type": "markdown",
   "id": "thorough-focus",
   "metadata": {},
   "source": [
    "# Lisans\n",
    "\n",
    "Bu ders notları *Furkan Semih Dündar* tarafından yazılmış olup, bu kapsamdaki tüm ders notları **GNU Free Documentation License  1.3** ile lisanslanmıştır. Kullanım koşulları için *fdl-1.3.txt* dosyasını inceleyiniz.\n",
    "\n",
    "Copyright (C) 2021"
   ]
  },
  {
   "cell_type": "markdown",
   "id": "perceived-robertson",
   "metadata": {},
   "source": [
    "# Hafta 3\n",
    "\n",
    "Ders içeriği:\n",
    "\n",
    "* Matrisler\n",
    "* İndisler\n",
    "* Matrislerin elemanlarına teker teker etki eden işlemler\n",
    "* Matrislerde toplama ve çıkarma\n",
    "* Matrislerde skaler ile çarpma\n",
    "* Matrislerin çarpımı\n",
    "* Matrislere uygulanabilen fonksiyonlar\n"
   ]
  },
  {
   "cell_type": "code",
   "execution_count": null,
   "id": "several-welding",
   "metadata": {},
   "outputs": [],
   "source": [
    "using LinearAlgebra"
   ]
  },
  {
   "cell_type": "markdown",
   "id": "anonymous-genre",
   "metadata": {},
   "source": [
    "## Matris tanımı\n",
    "\n",
    "Matrisler iki boyutlu dizilerdir (arrayler). Elemanları tanımlı olmayan fakat şekli belli olan matris şu şekilde tanımlanır. Elemanları *Float64* tipinde, 3 satır 2 sütundan oluşan matris:"
   ]
  },
  {
   "cell_type": "code",
   "execution_count": null,
   "id": "convertible-algorithm",
   "metadata": {},
   "outputs": [],
   "source": [
    "A = Matrix{Float64}(undef, 3,2)"
   ]
  },
  {
   "cell_type": "markdown",
   "id": "classified-mainland",
   "metadata": {},
   "source": [
    "Bir matrisin elemanlarını biliyorsak şu şekilde de doğrudan tanım yapabiliriz:"
   ]
  },
  {
   "cell_type": "code",
   "execution_count": null,
   "id": "viral-session",
   "metadata": {},
   "outputs": [],
   "source": [
    "B = [10 11; 12 13; 14 15]"
   ]
  },
  {
   "cell_type": "markdown",
   "id": "surrounded-mixer",
   "metadata": {},
   "source": [
    "### Köşegen matrisler"
   ]
  },
  {
   "cell_type": "markdown",
   "id": "raised-staff",
   "metadata": {},
   "source": [
    "Eğer bir matrisin sıfır olmayan elemanları sadece köşegenlerse, ya da diğer bir tabirle, köşegenleri dışındaki tüm elemanlar sıfırsa şu şekilde tanımlayabiliriz matrisi."
   ]
  },
  {
   "cell_type": "code",
   "execution_count": null,
   "id": "possible-entrance",
   "metadata": {},
   "outputs": [],
   "source": [
    "Diagonal([1, 2, 3])"
   ]
  },
  {
   "cell_type": "markdown",
   "id": "realistic-population",
   "metadata": {},
   "source": [
    "## İndisler\n",
    "\n",
    "Julia'da indisler 1 ile başlar. $A$ matrisinin elemanlarını teker teker atayalım."
   ]
  },
  {
   "cell_type": "code",
   "execution_count": null,
   "id": "mechanical-quest",
   "metadata": {},
   "outputs": [],
   "source": [
    "A[1,1] = 1\n",
    "A[1,2] = 2\n",
    "A[2,1] = 3\n",
    "A[2,2] = 4\n",
    "A[3,1] = 5\n",
    "A[3,2] = 6"
   ]
  },
  {
   "cell_type": "markdown",
   "id": "chicken-accordance",
   "metadata": {},
   "source": [
    "Şimdi $A$'nın elemanları tanımlı olmuş oldu. Görelim:"
   ]
  },
  {
   "cell_type": "code",
   "execution_count": null,
   "id": "referenced-library",
   "metadata": {},
   "outputs": [],
   "source": [
    "A"
   ]
  },
  {
   "cell_type": "markdown",
   "id": "modern-uncertainty",
   "metadata": {},
   "source": [
    "$A$ matrisinin ilk sütünundaki elemanları vektör olarak elde etmek için $A[:,1]$ komutunu vermemiz gerekir."
   ]
  },
  {
   "cell_type": "code",
   "execution_count": null,
   "id": "parliamentary-petite",
   "metadata": {},
   "outputs": [],
   "source": [
    "A[:,1]"
   ]
  },
  {
   "cell_type": "code",
   "execution_count": null,
   "id": "imported-shannon",
   "metadata": {},
   "outputs": [],
   "source": [
    "A[:,2]"
   ]
  },
  {
   "cell_type": "markdown",
   "id": "leading-floor",
   "metadata": {},
   "source": [
    "$A$ matrisinin ilk satırındaki elemanları vektör olarak elde etmek için $A[1,:]$ komutunu vermemiz gerekir."
   ]
  },
  {
   "cell_type": "code",
   "execution_count": null,
   "id": "interesting-interim",
   "metadata": {},
   "outputs": [],
   "source": [
    "A[1,:]"
   ]
  },
  {
   "cell_type": "code",
   "execution_count": null,
   "id": "hungarian-consciousness",
   "metadata": {},
   "outputs": [],
   "source": [
    "A[2,:]"
   ]
  },
  {
   "cell_type": "code",
   "execution_count": null,
   "id": "narrative-board",
   "metadata": {},
   "outputs": [],
   "source": [
    "A[3,:]"
   ]
  },
  {
   "cell_type": "markdown",
   "id": "alternate-concord",
   "metadata": {},
   "source": [
    "## Matrislerin elemanlarına teker teker etki eden işlemler"
   ]
  },
  {
   "cell_type": "markdown",
   "id": "convinced-circulation",
   "metadata": {},
   "source": [
    "### Aynı boyuttaki matrislerin toplanması, farkı, çarpımı, bölümü\n",
    "\n",
    "Bu işlemler şu şekildedir: (+), (-), (.\\*), (./)"
   ]
  },
  {
   "cell_type": "code",
   "execution_count": null,
   "id": "blessed-adventure",
   "metadata": {},
   "outputs": [],
   "source": [
    "A + B"
   ]
  },
  {
   "cell_type": "code",
   "execution_count": null,
   "id": "identical-rugby",
   "metadata": {},
   "outputs": [],
   "source": [
    "A - B"
   ]
  },
  {
   "cell_type": "code",
   "execution_count": null,
   "id": "preceding-vitamin",
   "metadata": {},
   "outputs": [],
   "source": [
    "A .* B"
   ]
  },
  {
   "cell_type": "code",
   "execution_count": null,
   "id": "noted-newspaper",
   "metadata": {},
   "outputs": [],
   "source": [
    "A ./ B"
   ]
  },
  {
   "cell_type": "markdown",
   "id": "wrapped-trainer",
   "metadata": {},
   "source": [
    "### Skaler ile çarpma\n",
    "\n",
    "Bir $a$ skaleri tanımlayıp işlem yapabiliriz."
   ]
  },
  {
   "cell_type": "code",
   "execution_count": null,
   "id": "stretch-gateway",
   "metadata": {},
   "outputs": [],
   "source": [
    "a = 3"
   ]
  },
  {
   "cell_type": "code",
   "execution_count": null,
   "id": "regional-netherlands",
   "metadata": {},
   "outputs": [],
   "source": [
    "A"
   ]
  },
  {
   "cell_type": "code",
   "execution_count": null,
   "id": "celtic-strand",
   "metadata": {},
   "outputs": [],
   "source": [
    "a * A"
   ]
  },
  {
   "cell_type": "markdown",
   "id": "binding-following",
   "metadata": {},
   "source": [
    "Ya da matrisi hangi sayıyla çarpmak istiyorsak doğrudan hesap edebiliriz."
   ]
  },
  {
   "cell_type": "code",
   "execution_count": null,
   "id": "boolean-tiffany",
   "metadata": {},
   "outputs": [],
   "source": [
    "2 * A"
   ]
  },
  {
   "cell_type": "code",
   "execution_count": null,
   "id": "tired-motorcycle",
   "metadata": {},
   "outputs": [],
   "source": [
    "3 * A"
   ]
  },
  {
   "cell_type": "code",
   "execution_count": null,
   "id": "tender-alert",
   "metadata": {},
   "outputs": [],
   "source": [
    "-2 * A"
   ]
  },
  {
   "cell_type": "code",
   "execution_count": null,
   "id": "informal-static",
   "metadata": {},
   "outputs": [],
   "source": [
    "0 * A"
   ]
  },
  {
   "cell_type": "markdown",
   "id": "fewer-rouge",
   "metadata": {},
   "source": [
    "## Matris çarpımı\n",
    "\n",
    "$A$ matrisi $m\\times n$ tipinde ve $B$ matrisi de $p \\times r$ tipinde olsun. $AB$ çarpımının tanımlı olabilmesi için $A$ matrisinin sütun sayısı $B$ matrisinin satır sayısına eşit olmalıdır: $n = p$. Eğer bu geçerli değilse, $AB$ matris çarpımı tanımlı değildir."
   ]
  },
  {
   "cell_type": "code",
   "execution_count": null,
   "id": "utility-number",
   "metadata": {},
   "outputs": [],
   "source": [
    "size(A)"
   ]
  },
  {
   "cell_type": "code",
   "execution_count": null,
   "id": "disturbed-maldives",
   "metadata": {},
   "outputs": [],
   "source": [
    "size(B)"
   ]
  },
  {
   "cell_type": "markdown",
   "id": "talented-specific",
   "metadata": {},
   "source": [
    "$AB$ çarpımı tanımlı değildir. Aşağıdaki hata kodunu alırız."
   ]
  },
  {
   "cell_type": "code",
   "execution_count": null,
   "id": "occupied-marina",
   "metadata": {},
   "outputs": [],
   "source": [
    "A*B"
   ]
  },
  {
   "cell_type": "markdown",
   "id": "brave-expense",
   "metadata": {},
   "source": [
    "$2\\times 2$ tipinde bir $C$ matrisi tanımlayalım."
   ]
  },
  {
   "cell_type": "code",
   "execution_count": null,
   "id": "starting-inspector",
   "metadata": {},
   "outputs": [],
   "source": [
    "C = [1 2; 3 4]"
   ]
  },
  {
   "cell_type": "code",
   "execution_count": null,
   "id": "reverse-rocket",
   "metadata": {},
   "outputs": [],
   "source": [
    "A * C"
   ]
  },
  {
   "cell_type": "code",
   "execution_count": null,
   "id": "dominican-visitor",
   "metadata": {},
   "outputs": [],
   "source": [
    "size(C)"
   ]
  },
  {
   "cell_type": "markdown",
   "id": "reverse-modem",
   "metadata": {},
   "source": [
    "Fakat bu durumda $AC$ tanımlı olmasına rağmen $CA$ tanımlı değildir. Zaten matrislerde çarpma işlemi değişmeli (*commutative*) değildir. $2\\times 2$'lik bir birim matris tanımlayalım:"
   ]
  },
  {
   "cell_type": "code",
   "execution_count": null,
   "id": "instrumental-facility",
   "metadata": {},
   "outputs": [],
   "source": [
    "D = [1 0; 0 1]"
   ]
  },
  {
   "cell_type": "code",
   "execution_count": null,
   "id": "ambient-yugoslavia",
   "metadata": {},
   "outputs": [],
   "source": [
    "C * D"
   ]
  },
  {
   "cell_type": "code",
   "execution_count": null,
   "id": "connected-aviation",
   "metadata": {},
   "outputs": [],
   "source": [
    "D * C"
   ]
  },
  {
   "cell_type": "markdown",
   "id": "verified-resolution",
   "metadata": {},
   "source": [
    "Eğer iki $C,D$ matrisleri için hem $CD$ hem de $DC$'nin tanımlı olmasını istersek; $C$ ve $D$ aynı boyutlara sahip kare matrisler olmalıdır."
   ]
  },
  {
   "cell_type": "markdown",
   "id": "silver-uruguay",
   "metadata": {},
   "source": [
    "## Matrislere uygulanabilen fonksiyonlar\n",
    "\n",
    "Analitik fonksiyonlar Taylor serilerine eşit olan fonksiyonlardır. Mesela\n",
    "\n",
    "$$\n",
    "f(x) = \\sum_{n = 0}^\\infty c_n x^n.\n",
    "$$\n",
    "\n",
    "Burada $x$ yerine bir **kare matris** alınırsa, bu fonksiyonların matrislere genelleştirilmesi yapılır."
   ]
  },
  {
   "cell_type": "code",
   "execution_count": null,
   "id": "random-sterling",
   "metadata": {},
   "outputs": [],
   "source": [
    "exp(C)"
   ]
  },
  {
   "cell_type": "code",
   "execution_count": null,
   "id": "veterinary-november",
   "metadata": {},
   "outputs": [],
   "source": [
    "exp(D)"
   ]
  },
  {
   "cell_type": "markdown",
   "id": "wireless-ethics",
   "metadata": {},
   "source": [
    "Trigonometrik fonksiyonlar da şu şekilde tanımlıdır:\n",
    "\n",
    "$$\n",
    "\\sin(x) = \\sum_{n = 0}^\\infty \\frac{(-1)^n x^{2n + 1}}{(2n + 1)!},\n",
    "$$\n",
    "\n",
    "$$\n",
    "\\cos(x) = \\sum_{n = 0}^\\infty \\frac{(-1)^n x^{2n}}{(2n)!}.\n",
    "$$\n",
    "\n",
    "Bu açılımları kullanarak, kare matris argümanlar için bu fonksiyonları genelleştirebiliriz. Yani tanımdaki $x$ yerine bir kare matris gelecek."
   ]
  },
  {
   "cell_type": "code",
   "execution_count": null,
   "id": "hazardous-journalism",
   "metadata": {},
   "outputs": [],
   "source": [
    "sin(D)"
   ]
  },
  {
   "cell_type": "code",
   "execution_count": null,
   "id": "hawaiian-excitement",
   "metadata": {},
   "outputs": [],
   "source": [
    "sin(C)"
   ]
  },
  {
   "cell_type": "code",
   "execution_count": null,
   "id": "statistical-python",
   "metadata": {},
   "outputs": [],
   "source": [
    "cos(D)"
   ]
  },
  {
   "cell_type": "code",
   "execution_count": null,
   "id": "dimensional-soundtrack",
   "metadata": {},
   "outputs": [],
   "source": [
    "cos(C)"
   ]
  },
  {
   "cell_type": "code",
   "execution_count": null,
   "id": "still-cache",
   "metadata": {},
   "outputs": [],
   "source": []
  }
 ],
 "metadata": {
  "kernelspec": {
   "display_name": "Julia 1.6.4",
   "language": "julia",
   "name": "julia-1.6"
  },
  "language_info": {
   "file_extension": ".jl",
   "mimetype": "application/julia",
   "name": "julia",
   "version": "1.6.4"
  }
 },
 "nbformat": 4,
 "nbformat_minor": 5
}
