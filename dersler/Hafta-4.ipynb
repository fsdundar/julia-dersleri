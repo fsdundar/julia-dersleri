{
 "cells": [
  {
   "cell_type": "markdown",
   "id": "thorough-focus",
   "metadata": {},
   "source": [
    "# Lisans\n",
    "\n",
    "Bu ders notları *Furkan Semih Dündar* tarafından yazılmış olup, bu kapsamdaki tüm ders notları **GNU Free Documentation License  1.3** ile lisanslanmıştır. Kullanım koşulları için *fdl-1.3.txt* dosyasını inceleyiniz.\n",
    "\n",
    "Copyright (C) 2021"
   ]
  },
  {
   "cell_type": "markdown",
   "id": "perceived-robertson",
   "metadata": {},
   "source": [
    "# Hafta 4\n",
    "\n",
    "Ders içeriği:\n",
    "\n",
    "* Matrisin transpozu\n",
    "* Satır ve sütun vektörleri\n",
    "* Determinant\n",
    "* Matrisin tersi\n",
    "* Matrisleri içeren bazı temel fonksiyonlar\n",
    "* Karakter dizileri (string)"
   ]
  },
  {
   "cell_type": "code",
   "execution_count": null,
   "id": "placed-leader",
   "metadata": {},
   "outputs": [],
   "source": [
    "using LinearAlgebra"
   ]
  },
  {
   "cell_type": "markdown",
   "id": "appointed-cassette",
   "metadata": {},
   "source": [
    "## Matrisin transpozu\n",
    "\n",
    "Bir $A$ matrisini şu şekilde tanımlayalim:"
   ]
  },
  {
   "cell_type": "code",
   "execution_count": null,
   "id": "treated-pixel",
   "metadata": {},
   "outputs": [],
   "source": [
    "A = [1 2 3; 4 5 6; 7 8 9]"
   ]
  },
  {
   "cell_type": "markdown",
   "id": "brazilian-albany",
   "metadata": {},
   "source": [
    "$A$ matrisinin transpozu *transpose(A)* komutuyla bulunur. Transpoz şu işlemi yapar: $a_{ij} \\to a_{ji}$."
   ]
  },
  {
   "cell_type": "code",
   "execution_count": null,
   "id": "photographic-baltimore",
   "metadata": {},
   "outputs": [],
   "source": [
    "transpose(A)"
   ]
  },
  {
   "cell_type": "markdown",
   "id": "lesbian-acquisition",
   "metadata": {},
   "source": [
    "## Satır ve sütun vektörleri\n",
    "\n",
    "$A[:,j]$ ile $j$'inci sütun, $A[i,:]$ ile $i$'inci satır elde edilir."
   ]
  },
  {
   "cell_type": "code",
   "execution_count": null,
   "id": "supreme-twenty",
   "metadata": {},
   "outputs": [],
   "source": [
    "A[:,1]"
   ]
  },
  {
   "cell_type": "code",
   "execution_count": null,
   "id": "polished-yahoo",
   "metadata": {},
   "outputs": [],
   "source": [
    "A[:,2]"
   ]
  },
  {
   "cell_type": "code",
   "execution_count": null,
   "id": "dominant-wings",
   "metadata": {},
   "outputs": [],
   "source": [
    "A[:,3]"
   ]
  },
  {
   "cell_type": "code",
   "execution_count": null,
   "id": "quarterly-court",
   "metadata": {},
   "outputs": [],
   "source": [
    "A[1,:]"
   ]
  },
  {
   "cell_type": "code",
   "execution_count": null,
   "id": "baking-liability",
   "metadata": {},
   "outputs": [],
   "source": [
    "A[2,:]"
   ]
  },
  {
   "cell_type": "code",
   "execution_count": null,
   "id": "younger-facing",
   "metadata": {},
   "outputs": [],
   "source": [
    "A[3,:]"
   ]
  },
  {
   "cell_type": "markdown",
   "id": "integral-scratch",
   "metadata": {},
   "source": [
    "## Determinant\n",
    "\n",
    "Bir $A$ matrisinin determinantı *det(A)* komutuyla hesap edilir. Determinant yalnızca kare matrisler için tanımlı bir fonksiyondur."
   ]
  },
  {
   "cell_type": "code",
   "execution_count": null,
   "id": "leading-domain",
   "metadata": {},
   "outputs": [],
   "source": [
    "det(A)"
   ]
  },
  {
   "cell_type": "code",
   "execution_count": null,
   "id": "defensive-mechanics",
   "metadata": {},
   "outputs": [],
   "source": [
    "B = [1 2 3; 0 4 5; 0 0 6]"
   ]
  },
  {
   "cell_type": "code",
   "execution_count": null,
   "id": "previous-contamination",
   "metadata": {},
   "outputs": [],
   "source": [
    "det(B)"
   ]
  },
  {
   "cell_type": "markdown",
   "id": "median-cincinnati",
   "metadata": {},
   "source": [
    "## Matrisin tersi\n",
    "\n",
    "Bir matrisin tersinin olabilmesi için determinantının sıfırdan farklı olması gerekir. Determinantı sıfır olan matrislerin tersleri yoktur. Mesela $A$ matrisinin tersi yoktur, fakat $B$ matrisinin tersi vardır."
   ]
  },
  {
   "cell_type": "code",
   "execution_count": null,
   "id": "forty-freedom",
   "metadata": {},
   "outputs": [],
   "source": [
    "inv(A)"
   ]
  },
  {
   "cell_type": "code",
   "execution_count": null,
   "id": "colored-scientist",
   "metadata": {},
   "outputs": [],
   "source": [
    "inv(B)"
   ]
  },
  {
   "cell_type": "markdown",
   "id": "acknowledged-costume",
   "metadata": {},
   "source": [
    "## Karakter dizileri (stringler)\n",
    "\n",
    "Bir $s$ karakter dizisini şu şekilde tanımlayabiliriz."
   ]
  },
  {
   "cell_type": "code",
   "execution_count": null,
   "id": "reported-calculation",
   "metadata": {},
   "outputs": [],
   "source": [
    "s = \"Merhaba Dünya!\""
   ]
  },
  {
   "cell_type": "markdown",
   "id": "lonely-nature",
   "metadata": {},
   "source": [
    "*length(s)* fonksiyonuyla dizinin uzunluğunu elde ederiz."
   ]
  },
  {
   "cell_type": "code",
   "execution_count": null,
   "id": "artistic-central",
   "metadata": {},
   "outputs": [],
   "source": [
    "length(s)"
   ]
  },
  {
   "cell_type": "markdown",
   "id": "express-inflation",
   "metadata": {},
   "source": [
    "$i$'inci ve $j$'inci elemanları arasındaki altdiziyiyse şu şekilde buluruz."
   ]
  },
  {
   "cell_type": "code",
   "execution_count": null,
   "id": "mechanical-trinidad",
   "metadata": {},
   "outputs": [],
   "source": [
    "s[1:7]"
   ]
  },
  {
   "cell_type": "code",
   "execution_count": null,
   "id": "looking-selection",
   "metadata": {},
   "outputs": [],
   "source": [
    "s[9:15]"
   ]
  },
  {
   "cell_type": "code",
   "execution_count": null,
   "id": "worse-tackle",
   "metadata": {},
   "outputs": [],
   "source": [
    "t = \"Amasya'dan selamlar\""
   ]
  },
  {
   "cell_type": "markdown",
   "id": "differential-insurance",
   "metadata": {},
   "source": [
    "İki karakter dizisini \\* işlemi ile birleştirebiliriz."
   ]
  },
  {
   "cell_type": "code",
   "execution_count": null,
   "id": "activated-sunrise",
   "metadata": {},
   "outputs": [],
   "source": [
    "s * t"
   ]
  },
  {
   "cell_type": "code",
   "execution_count": null,
   "id": "cognitive-harvey",
   "metadata": {},
   "outputs": [],
   "source": [
    "length(s * t)"
   ]
  },
  {
   "cell_type": "markdown",
   "id": "organized-closer",
   "metadata": {},
   "source": [
    "*s* bir karater dizisi olmak üzere, s^n yazarak (burada $n$ bir tam sayı) $n$ kez kendi kendine ekleriz. Bunun yerine repeat(s, n) komutunu da kullanabilirsiniz."
   ]
  },
  {
   "cell_type": "code",
   "execution_count": null,
   "id": "retained-regular",
   "metadata": {},
   "outputs": [],
   "source": [
    "s^1"
   ]
  },
  {
   "cell_type": "code",
   "execution_count": null,
   "id": "modified-corps",
   "metadata": {},
   "outputs": [],
   "source": [
    "s^2"
   ]
  },
  {
   "cell_type": "code",
   "execution_count": null,
   "id": "occupational-parish",
   "metadata": {},
   "outputs": [],
   "source": [
    "s^3"
   ]
  },
  {
   "cell_type": "code",
   "execution_count": null,
   "id": "swedish-isaac",
   "metadata": {},
   "outputs": [],
   "source": [
    "s^0"
   ]
  },
  {
   "cell_type": "code",
   "execution_count": null,
   "id": "lightweight-angel",
   "metadata": {},
   "outputs": [],
   "source": [
    "repeat(t, 2)"
   ]
  },
  {
   "cell_type": "code",
   "execution_count": null,
   "id": "august-mongolia",
   "metadata": {},
   "outputs": [],
   "source": []
  }
 ],
 "metadata": {
  "kernelspec": {
   "display_name": "Julia 1.6.4",
   "language": "julia",
   "name": "julia-1.6"
  },
  "language_info": {
   "file_extension": ".jl",
   "mimetype": "application/julia",
   "name": "julia",
   "version": "1.6.4"
  }
 },
 "nbformat": 4,
 "nbformat_minor": 5
}
