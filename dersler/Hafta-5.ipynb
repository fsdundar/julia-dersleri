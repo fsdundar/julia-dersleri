{
 "cells": [
  {
   "cell_type": "markdown",
   "id": "catholic-holmes",
   "metadata": {},
   "source": [
    "# Lisans\n",
    "\n",
    "Bu ders notları *Furkan Semih Dündar* tarafından yazılmış olup, bu kapsamdaki tüm ders notları **GNU Free Documentation License  1.3** ile lisanslanmıştır. Kullanım koşulları için *fdl-1.3.txt* dosyasını inceleyiniz.\n",
    "\n",
    "Copyright (C) 2021"
   ]
  },
  {
   "cell_type": "markdown",
   "id": "friendly-leone",
   "metadata": {},
   "source": [
    "# Hafta 5\n",
    "\n",
    "Ders içeriği:\n",
    "\n",
    "* Lineer denklem sistemleri ve çözümleri\n",
    "* Vektörlere uygulanabilen daha çeşitli fonksiyonlar\n",
    "* Rastgele sayılar"
   ]
  },
  {
   "cell_type": "markdown",
   "id": "postal-oxide",
   "metadata": {},
   "source": [
    "## Lineer denklem sistemleri ve çözümleri\n",
    "\n",
    "Şu şekilde bir $A$ matrisi ve $b$ vektörü olsun."
   ]
  },
  {
   "cell_type": "code",
   "execution_count": null,
   "id": "incorporated-badge",
   "metadata": {},
   "outputs": [],
   "source": [
    "using LinearAlgebra\n",
    "A = [1 2 3; 0 5 6; 0 0 9]\n",
    "b = [4;6;7]"
   ]
  },
  {
   "cell_type": "markdown",
   "id": "indoor-calcium",
   "metadata": {},
   "source": [
    "$Ax = b$ denkleminin çözümü şu şekilde verilir:"
   ]
  },
  {
   "cell_type": "code",
   "execution_count": null,
   "id": "caroline-maine",
   "metadata": {},
   "outputs": [],
   "source": [
    "A\\b"
   ]
  },
  {
   "cell_type": "markdown",
   "id": "union-firmware",
   "metadata": {},
   "source": [
    "Ya da $A$ matrisinin tersini hesaplayarak da benzeri bir işlemi gerçekleştirebilirsiniz."
   ]
  },
  {
   "cell_type": "code",
   "execution_count": null,
   "id": "guilty-winter",
   "metadata": {},
   "outputs": [],
   "source": [
    "inv(A) * b"
   ]
  },
  {
   "cell_type": "markdown",
   "id": "conscious-swing",
   "metadata": {},
   "source": [
    "## GPS uygulamaları\n",
    "\n",
    "Farz edelim ki bir düzlem üzerindeyiz ve 3 adet uydunun konumları $(x_i, y_i)$ ve onlara olan uzaklığımız $r_i$ sayılarıyla veriliyor. Uyduların sayısının en az 3 olması gerekir. Eğer 1 uydu olsaydı, konumu ancak bir çember üzerinde belirleyebilirdik. Eğer 2 uydu olsaydı çok şanslıysak bir noktada olurdu konumumuz, diğer durumlardaysa 2 noktada olabilirdik. Fakat en az 3 uydu ile konumumuzu tek bir noktada belirleyebiliriz. Eğer bizim konumumuz $(x,y)$ ise şu üç denklem aynı anda sağlanmalıdır:\n",
    "\n",
    "\\begin{align}\n",
    "    (x_1 - x)^2 + (y_1 - y)^2 &= r_1^2\\\\\n",
    "    (x_2 - x)^2 + (y_2 - y)^2 &= r_2^2\\\\\n",
    "    (x_3 - x)^2 + (y_3 - y)^2 &= r_3^2\n",
    "\\end{align}\n",
    "\n",
    "Bu ifadeleri açarak şu sonuca varabiliriz:\n",
    "\n",
    "\\begin{align}\n",
    "    x_1^2 - 2xx_1 + x^2 + y_1^2 - 2yy_1 + y^2 - r_1^2 &= 0\\\\\n",
    "    x_2^2 - 2xx_2 + x^2 + y_2^2 - 2yy_2 + y^2 - r_2^2 &= 0\\\\\n",
    "    x_3^2 - 2xx_3 + x^2 + y_3^2 - 2yy_3 + y^2 - r_3^2 &= 0\n",
    "\\end{align}"
   ]
  },
  {
   "cell_type": "markdown",
   "id": "universal-istanbul",
   "metadata": {},
   "source": [
    "$i \\neq j$ olmak üzere, bu denklemleri birbirinden çıkarırsak şu sonuca ulaşırız:\n",
    "\n",
    "\\begin{equation}\n",
    "    -2(x_i - x_j) x -2(y_i - y_j) y = r_i^2 - r_j^2 - x_i^2 + x_j^2 - y_i^2 + y_j^2\n",
    "\\end{equation}"
   ]
  },
  {
   "cell_type": "markdown",
   "id": "dutch-criminal",
   "metadata": {},
   "source": [
    "En nihayetinde ise şu matris denklemine ulaşırız:\n",
    "\n",
    "\\begin{equation}\n",
    "    \\begin{pmatrix}\n",
    "        -2(x_1 - x_2) & -2(y_1 - y_2)\\\\\n",
    "        -2(x_1 - x_3) & -2(y_1 - y_3)\n",
    "    \\end{pmatrix}\n",
    "    \\begin{pmatrix}\n",
    "        x\\\\\n",
    "        y\n",
    "    \\end{pmatrix}\n",
    "    =\n",
    "    \\begin{pmatrix}\n",
    "        r_1^2 - r_2^2 - x_1^2 + x_2^2 - y_1^2 + y_2^2\\\\\n",
    "        r_1^2 - r_3^2 - x_1^2 + x_3^2 - y_1^2 + y_3^2\n",
    "    \\end{pmatrix}\n",
    "\\end{equation}"
   ]
  },
  {
   "cell_type": "code",
   "execution_count": null,
   "id": "economic-machine",
   "metadata": {},
   "outputs": [],
   "source": [
    "# Birinci uydu için bilgi\n",
    "x1 = 0\n",
    "y1 = 0\n",
    "r1 = 1\n",
    "\n",
    "# İkinci uydu için bilgi\n",
    "x2 = 1\n",
    "y2 = 1\n",
    "r2 = 2\n",
    "\n",
    "# Üçüncü uydu için bilgi\n",
    "x3 = 2\n",
    "y3 = 0\n",
    "r3 = 1.8"
   ]
  },
  {
   "cell_type": "code",
   "execution_count": null,
   "id": "buried-martial",
   "metadata": {},
   "outputs": [],
   "source": [
    "A = -2 * [x1-x2 y1-y2; x1-x3 y1-y3]"
   ]
  },
  {
   "cell_type": "code",
   "execution_count": null,
   "id": "empty-security",
   "metadata": {},
   "outputs": [],
   "source": [
    "b = [r1^2 - r2^2 - x1^2 + x2^2 - y1^2 + y2^2; r1^2 - r3^2 - x1^2 + x3^2 - y1^2 + y3^2]"
   ]
  },
  {
   "cell_type": "code",
   "execution_count": null,
   "id": "capital-necessity",
   "metadata": {},
   "outputs": [],
   "source": [
    "A\\b"
   ]
  },
  {
   "cell_type": "markdown",
   "id": "impaired-corruption",
   "metadata": {},
   "source": [
    "Örneğin grafik gösterimi:\n",
    "\n",
    "<img align=\"left\" alt=\"GPS\" src=\"../images/gps.png\" height=\"300\" width=\"300\">"
   ]
  },
  {
   "cell_type": "markdown",
   "id": "clean-cannon",
   "metadata": {},
   "source": [
    "## Vektörlere uygulanabilen daha çeşitli fonksiyonlar\n",
    "\n",
    "$x$ şu şekilde tanımlı bir vektör olsun:"
   ]
  },
  {
   "cell_type": "code",
   "execution_count": null,
   "id": "final-primary",
   "metadata": {},
   "outputs": [],
   "source": [
    "x = rand(10)"
   ]
  },
  {
   "cell_type": "markdown",
   "id": "foreign-consequence",
   "metadata": {},
   "source": [
    "maximum() fonksiyonu vektörün en büyük elemanını döndürür."
   ]
  },
  {
   "cell_type": "code",
   "execution_count": null,
   "id": "varied-shirt",
   "metadata": {},
   "outputs": [],
   "source": [
    "maximum(x)"
   ]
  },
  {
   "cell_type": "markdown",
   "id": "serial-performer",
   "metadata": {},
   "source": [
    "minimum() fonksiyonu vektörün en küçük elemanını döndürür."
   ]
  },
  {
   "cell_type": "code",
   "execution_count": null,
   "id": "unlike-reproduction",
   "metadata": {},
   "outputs": [],
   "source": [
    "minimum(x)"
   ]
  },
  {
   "cell_type": "markdown",
   "id": "wired-cooper",
   "metadata": {},
   "source": [
    "Aritmetik ortalama ve diğer istatistiksel fonksiyonları kullanmak için önce **Statistics** kütüphanesini kullanmamız gerekir."
   ]
  },
  {
   "cell_type": "code",
   "execution_count": null,
   "id": "polish-repeat",
   "metadata": {},
   "outputs": [],
   "source": [
    "using Statistics"
   ]
  },
  {
   "cell_type": "code",
   "execution_count": null,
   "id": "adjustable-sheep",
   "metadata": {},
   "outputs": [],
   "source": [
    "mean(x)"
   ]
  },
  {
   "cell_type": "markdown",
   "id": "identical-bolivia",
   "metadata": {},
   "source": [
    "Varyans:"
   ]
  },
  {
   "cell_type": "code",
   "execution_count": null,
   "id": "accepting-charter",
   "metadata": {},
   "outputs": [],
   "source": [
    "var(x)"
   ]
  },
  {
   "cell_type": "markdown",
   "id": "assigned-rental",
   "metadata": {},
   "source": [
    "Standart sapma:"
   ]
  },
  {
   "cell_type": "code",
   "execution_count": null,
   "id": "incomplete-newton",
   "metadata": {},
   "outputs": [],
   "source": [
    "std(x)"
   ]
  },
  {
   "cell_type": "markdown",
   "id": "yellow-contest",
   "metadata": {},
   "source": [
    "Medyan:"
   ]
  },
  {
   "cell_type": "code",
   "execution_count": null,
   "id": "automated-frederick",
   "metadata": {},
   "outputs": [],
   "source": [
    "f7 = [1 1 2 3 5 8 13]"
   ]
  },
  {
   "cell_type": "code",
   "execution_count": null,
   "id": "vocal-chambers",
   "metadata": {},
   "outputs": [],
   "source": [
    "median(f7)"
   ]
  },
  {
   "cell_type": "code",
   "execution_count": null,
   "id": "tired-calculation",
   "metadata": {},
   "outputs": [],
   "source": [
    "f8 = [1 1 2 3 5 8 13 21]"
   ]
  },
  {
   "cell_type": "code",
   "execution_count": null,
   "id": "backed-victim",
   "metadata": {},
   "outputs": [],
   "source": [
    "median(f8)"
   ]
  },
  {
   "cell_type": "markdown",
   "id": "controversial-volleyball",
   "metadata": {},
   "source": [
    "## Rastgele sayılar"
   ]
  },
  {
   "cell_type": "markdown",
   "id": "adopted-display",
   "metadata": {},
   "source": [
    "$N$ sayısını şu şekilde tanımlayarak $[0,1]$ aralığında $N$ tane rastgele sayı elde edebiliriz:"
   ]
  },
  {
   "cell_type": "code",
   "execution_count": null,
   "id": "alleged-taste",
   "metadata": {},
   "outputs": [],
   "source": [
    "N = 5\n",
    "rand(N)"
   ]
  },
  {
   "cell_type": "markdown",
   "id": "starting-robin",
   "metadata": {},
   "source": [
    "Gelin şimdi bu rastgele sayıların histogramını çizdirelim."
   ]
  },
  {
   "cell_type": "code",
   "execution_count": null,
   "id": "oriented-synthesis",
   "metadata": {},
   "outputs": [],
   "source": [
    "using Plots\n",
    "histogram(rand(1000))"
   ]
  },
  {
   "cell_type": "markdown",
   "id": "weighted-institute",
   "metadata": {},
   "source": [
    "Bit bit ya sıfırdır ya da birdir. bitrand() fonksiyonunu kullanarak rastgele bir bit dizisi elde edebiliriz."
   ]
  },
  {
   "cell_type": "code",
   "execution_count": null,
   "id": "greenhouse-option",
   "metadata": {},
   "outputs": [],
   "source": [
    "using Random\n",
    "bitrand(5)"
   ]
  },
  {
   "cell_type": "code",
   "execution_count": null,
   "id": "serial-somerset",
   "metadata": {},
   "outputs": [],
   "source": [
    "bitrand(10)"
   ]
  },
  {
   "cell_type": "markdown",
   "id": "random-adult",
   "metadata": {},
   "source": [
    "randn() fonksiyonunu kullanarak ortalaması sıfır olan ve standart sapması 1 olan bir normal dağılımdan rastgele sayılar üretebiliriz."
   ]
  },
  {
   "cell_type": "code",
   "execution_count": null,
   "id": "greenhouse-reducing",
   "metadata": {},
   "outputs": [],
   "source": [
    "R = randn(100)"
   ]
  },
  {
   "cell_type": "code",
   "execution_count": null,
   "id": "statutory-oregon",
   "metadata": {},
   "outputs": [],
   "source": [
    "mean(R)"
   ]
  },
  {
   "cell_type": "code",
   "execution_count": null,
   "id": "extra-voluntary",
   "metadata": {},
   "outputs": [],
   "source": [
    "std(R)"
   ]
  },
  {
   "cell_type": "markdown",
   "id": "equal-joint",
   "metadata": {},
   "source": [
    "Gelin şimdi bu rastgele sayıların histogramını çizdirelim."
   ]
  },
  {
   "cell_type": "code",
   "execution_count": null,
   "id": "brutal-quality",
   "metadata": {},
   "outputs": [],
   "source": [
    "using Plots\n",
    "histogram(randn(1000))"
   ]
  },
  {
   "cell_type": "markdown",
   "id": "derived-watch",
   "metadata": {},
   "source": [
    "Dijital bilgisayarda rastgele sayılar mükemmel olarak üretilemez. Algoritmalar genelde bir tohum (seed) değerini alırlar ve buna göre bir rastgele sayı üretirler. Bu tohum değerinin ne kadar kaliteli derecede rastgele olduğu, üretilen rastgele sayıların rastgelelelik kalitesini etkiler. Genelde fare, klavye hareketleri gibi girdiler tohum değerinin hesaplanmasında fazladan rastgele değişkenler olarak dahil edilebilirler. Eğer kodumuzun her sefesinde aynı rastgeleliği üretmesini istiyorsak bunu aşağıdaki gibi bir tohum (seed) değeri atayarak yapmamız gerekir."
   ]
  },
  {
   "cell_type": "code",
   "execution_count": null,
   "id": "geological-guyana",
   "metadata": {},
   "outputs": [],
   "source": [
    "rng = Random.seed!(123)"
   ]
  },
  {
   "cell_type": "code",
   "execution_count": null,
   "id": "brilliant-venue",
   "metadata": {},
   "outputs": [],
   "source": [
    "R1 = rand(rng, 10)"
   ]
  },
  {
   "cell_type": "code",
   "execution_count": null,
   "id": "ahead-basics",
   "metadata": {},
   "outputs": [],
   "source": [
    "R2 = rand(10)"
   ]
  },
  {
   "cell_type": "code",
   "execution_count": null,
   "id": "cordless-program",
   "metadata": {},
   "outputs": [],
   "source": [
    "rng = Random.seed!(123)\n",
    "R3 = rand(rng, 10)"
   ]
  },
  {
   "cell_type": "markdown",
   "id": "cognitive-asthma",
   "metadata": {},
   "source": [
    "Aşağıda gördüğümüz gibi $R1\\neq R2$ fakat $R1 = R3$."
   ]
  },
  {
   "cell_type": "code",
   "execution_count": null,
   "id": "democratic-infection",
   "metadata": {},
   "outputs": [],
   "source": [
    "R1 == R2"
   ]
  },
  {
   "cell_type": "code",
   "execution_count": null,
   "id": "formal-matter",
   "metadata": {},
   "outputs": [],
   "source": [
    "R1 == R3"
   ]
  }
 ],
 "metadata": {
  "kernelspec": {
   "display_name": "Julia 1.6.4",
   "language": "julia",
   "name": "julia-1.6"
  },
  "language_info": {
   "file_extension": ".jl",
   "mimetype": "application/julia",
   "name": "julia",
   "version": "1.6.4"
  }
 },
 "nbformat": 4,
 "nbformat_minor": 5
}
