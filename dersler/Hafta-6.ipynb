{
 "cells": [
  {
   "cell_type": "markdown",
   "id": "thorough-focus",
   "metadata": {},
   "source": [
    "# Lisans\n",
    "\n",
    "Bu ders notları *Furkan Semih Dündar* tarafından yazılmış olup, bu kapsamdaki tüm ders notları **GNU Free Documentation License  1.3** ile lisanslanmıştır. Kullanım koşulları için *fdl-1.3.txt* dosyasını inceleyiniz.\n",
    "\n",
    "Copyright (C) 2021"
   ]
  },
  {
   "cell_type": "markdown",
   "id": "perceived-robertson",
   "metadata": {},
   "source": [
    "# Hafta 6\n",
    "\n",
    "Ders içeriği:\n",
    "\n",
    "* Betik dosyaları (script)\n",
    "* Komut satırı girdi/çıktı\n",
    "* Dosya girdi/çıktı"
   ]
  },
  {
   "cell_type": "code",
   "execution_count": null,
   "id": "administrative-houston",
   "metadata": {},
   "outputs": [],
   "source": []
  }
 ],
 "metadata": {
  "kernelspec": {
   "display_name": "Julia 1.6.4",
   "language": "julia",
   "name": "julia-1.6"
  },
  "language_info": {
   "file_extension": ".jl",
   "mimetype": "application/julia",
   "name": "julia",
   "version": "1.6.4"
  }
 },
 "nbformat": 4,
 "nbformat_minor": 5
}
